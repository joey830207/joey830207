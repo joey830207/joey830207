{
 "cells": [
  {
   "cell_type": "code",
   "execution_count": 8,
   "metadata": {},
   "outputs": [
    {
     "name": "stdout",
     "output_type": "stream",
     "text": [
      "(2, 2, 3)\n"
     ]
    }
   ],
   "source": [
    "import numpy as np\n",
    "\n",
    "# create a 3D array\n",
    "arr = np.array([\n",
    "    [[1, 2, 3], [4, 5, 6]],\n",
    "    [[7, 8, 9], [10, 11, 12]],\n",
    "    [[13, 14, 15], [16, 17, 18]]\n",
    "])\n",
    "\n",
    "print(np.shape(arr))\n",
    "\n",
    "# reshape the 3D array into a 2D array\n",
    "arr_2d = arr.reshape(-1, arr.shape[-1])\n",
    "\n",
    "# specify the file path to your desktop directory\n",
    "file_path = r'C:\\Users\\Joey\\Desktop\\array.csv'\n",
    "\n",
    "# save the 2D array to a CSV file\n",
    "np.savetxt(file_path, arr_2d, delimiter=',')"
   ]
  },
  {
   "cell_type": "code",
   "execution_count": 30,
   "metadata": {},
   "outputs": [
    {
     "name": "stdout",
     "output_type": "stream",
     "text": [
      "(3, 2, 3)\n",
      "[21 57 93]\n",
      "[0 1 2]\n"
     ]
    }
   ],
   "source": [
    "import numpy as np\n",
    "\n",
    "# create a 3D array\n",
    "arr = np.array([\n",
    "    [[1, 2, 3], [4, 5, 6]],\n",
    "    [[7, 8, 9], [10, 11, 12]],\n",
    "    [[13, 14, 15], [16, 17, 18]]\n",
    "])\n",
    "\n",
    "print(np.shape(arr))\n",
    "\n",
    "# sum up the elements in each 2D array individually\n",
    "arr_2d_sum = np.sum(arr, axis=1)\n",
    "\n",
    "# sum up the elements in the resulting array along the 3D axis\n",
    "arr_1d_sum = np.sum(arr_2d_sum, axis=1)\n",
    "\n",
    "print(arr_1d_sum)\n",
    "\n",
    "# insert another array before the data\n",
    "time_arr = np.arange(0, 3, 1)\n",
    "print(time_arr)\n",
    "data_f = np.transpose(np.stack((time_arr, arr_1d_sum)))\n",
    "\n",
    "# specify the file path to your desktop directory\n",
    "file_path = r'C:\\Users\\Joey\\Desktop\\array.csv'\n",
    "\n",
    "# save the 2D array to a CSV file\n",
    "np.savetxt(file_path, data_f, delimiter=',')"
   ]
  },
  {
   "cell_type": "code",
   "execution_count": 13,
   "metadata": {},
   "outputs": [
    {
     "ename": "ValueError",
     "evalue": "all the input array dimensions for the concatenation axis must match exactly, but along dimension 0, the array at index 0 has size 3 and the array at index 1 has size 2",
     "output_type": "error",
     "traceback": [
      "\u001b[1;31m---------------------------------------------------------------------------\u001b[0m",
      "\u001b[1;31mValueError\u001b[0m                                Traceback (most recent call last)",
      "Cell \u001b[1;32mIn[13], line 11\u001b[0m\n\u001b[0;32m      9\u001b[0m \u001b[39m# insert another array before the data\u001b[39;00m\n\u001b[0;32m     10\u001b[0m additional_array \u001b[39m=\u001b[39m np\u001b[39m.\u001b[39marray([\u001b[39m0\u001b[39m, \u001b[39m1\u001b[39m, \u001b[39m2\u001b[39m])\n\u001b[1;32m---> 11\u001b[0m data_with_additional_array \u001b[39m=\u001b[39m np\u001b[39m.\u001b[39;49mhstack((additional_array\u001b[39m.\u001b[39;49mreshape(\u001b[39m-\u001b[39;49m\u001b[39m1\u001b[39;49m, \u001b[39m1\u001b[39;49m), arr_1d))\n\u001b[0;32m     13\u001b[0m \u001b[39m# save the data as a CSV file\u001b[39;00m\n\u001b[0;32m     14\u001b[0m np\u001b[39m.\u001b[39msavetxt(\u001b[39mr\u001b[39m\u001b[39m'\u001b[39m\u001b[39mC:\u001b[39m\u001b[39m\\\u001b[39m\u001b[39mUsers\u001b[39m\u001b[39m\\\u001b[39m\u001b[39mJoey\u001b[39m\u001b[39m\\\u001b[39m\u001b[39mDesktop\u001b[39m\u001b[39m\\\u001b[39m\u001b[39mtest.csv\u001b[39m\u001b[39m'\u001b[39m, data_with_additional_array, delimiter\u001b[39m=\u001b[39m\u001b[39m'\u001b[39m\u001b[39m,\u001b[39m\u001b[39m'\u001b[39m)\n",
      "File \u001b[1;32m<__array_function__ internals>:5\u001b[0m, in \u001b[0;36mhstack\u001b[1;34m(*args, **kwargs)\u001b[0m\n",
      "File \u001b[1;32md:\\anaconda3\\lib\\site-packages\\numpy\\core\\shape_base.py:345\u001b[0m, in \u001b[0;36mhstack\u001b[1;34m(tup)\u001b[0m\n\u001b[0;32m    343\u001b[0m     \u001b[39mreturn\u001b[39;00m _nx\u001b[39m.\u001b[39mconcatenate(arrs, \u001b[39m0\u001b[39m)\n\u001b[0;32m    344\u001b[0m \u001b[39melse\u001b[39;00m:\n\u001b[1;32m--> 345\u001b[0m     \u001b[39mreturn\u001b[39;00m _nx\u001b[39m.\u001b[39;49mconcatenate(arrs, \u001b[39m1\u001b[39;49m)\n",
      "File \u001b[1;32m<__array_function__ internals>:5\u001b[0m, in \u001b[0;36mconcatenate\u001b[1;34m(*args, **kwargs)\u001b[0m\n",
      "\u001b[1;31mValueError\u001b[0m: all the input array dimensions for the concatenation axis must match exactly, but along dimension 0, the array at index 0 has size 3 and the array at index 1 has size 2"
     ]
    }
   ],
   "source": [
    "import numpy as np\n",
    "\n",
    "# create a 3D array\n",
    "arr_3d = np.array([[[1, 2, 3], [4, 5, 6]], [[7, 8, 9], [10, 11, 12]]])\n",
    "\n",
    "# sum the 2D arrays along the 3rd axis to get a 1D array\n",
    "arr_1d = np.sum(arr_3d, axis=2)\n",
    "\n",
    "# insert another array before the data\n",
    "additional_array = np.array([0, 1, 2])\n",
    "data_with_additional_array = np.hstack((additional_array.reshape(-1, 1), arr_1d))\n",
    "\n",
    "# save the data as a CSV file\n",
    "np.savetxt(r'C:\\Users\\Joey\\Desktop\\test.csv', data_with_additional_array, delimiter=',')"
   ]
  }
 ],
 "metadata": {
  "kernelspec": {
   "display_name": "base",
   "language": "python",
   "name": "python3"
  },
  "language_info": {
   "codemirror_mode": {
    "name": "ipython",
    "version": 3
   },
   "file_extension": ".py",
   "mimetype": "text/x-python",
   "name": "python",
   "nbconvert_exporter": "python",
   "pygments_lexer": "ipython3",
   "version": "3.9.13"
  },
  "orig_nbformat": 4,
  "vscode": {
   "interpreter": {
    "hash": "49cb93f377a7abe7414b7b0f21fb3017538004a126cf690fb524202736b7fb92"
   }
  }
 },
 "nbformat": 4,
 "nbformat_minor": 2
}
